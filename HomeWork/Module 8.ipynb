{
  "nbformat": 4,
  "nbformat_minor": 0,
  "metadata": {
    "colab": {
      "provenance": [],
      "gpuType": "T4"
    },
    "kernelspec": {
      "name": "python3",
      "display_name": "Python 3"
    },
    "language_info": {
      "name": "python"
    },
    "accelerator": "GPU"
  },
  "cells": [
    {
      "cell_type": "code",
      "source": [
        "import tensorflow as tf\n",
        "import numpy as np"
      ],
      "metadata": {
        "id": "NCVebvLYsNxn"
      },
      "execution_count": null,
      "outputs": []
    },
    {
      "cell_type": "code",
      "execution_count": null,
      "metadata": {
        "colab": {
          "base_uri": "https://localhost:8080/"
        },
        "id": "meIBsEtQRzdb",
        "outputId": "0237ddf8-357a-4cce-836b-7639863b66fe"
      },
      "outputs": [
        {
          "output_type": "stream",
          "name": "stdout",
          "text": [
            "Mounted at /content/drive\n"
          ]
        }
      ],
      "source": [
        "from google.colab import drive\n",
        "drive.mount('/content/drive')"
      ]
    },
    {
      "cell_type": "code",
      "source": [
        "TRAINING_DIR = '/content/drive/MyDrive/data/train'\n",
        "VALIDATION_DIR = '/content/drive/MyDrive/data/test'\n",
        "\n",
        "training_datagen = tf.keras.preprocessing.image.ImageDataGenerator(\n",
        "      rescale = 1./255\n",
        "\t    # rotation_range=40,\n",
        "      # width_shift_range=0.2,\n",
        "      # height_shift_range=0.2,\n",
        "      # shear_range=0.2,\n",
        "      # zoom_range=0.2,\n",
        "      # horizontal_flip=True,\n",
        "      # fill_mode='nearest'\n",
        "      )\n",
        "\n",
        "validation_datagen = tf.keras.preprocessing.image.ImageDataGenerator(rescale = 1./255)\n",
        "\n",
        "train_generator = training_datagen.flow_from_directory(\n",
        "\tTRAINING_DIR,\n",
        "\ttarget_size=(150,150),\n",
        "\tclass_mode='binary',\n",
        "  batch_size=20,\n",
        "  shuffle = True\n",
        ")\n",
        "\n",
        "validation_generator = validation_datagen.flow_from_directory(\n",
        "\tVALIDATION_DIR,\n",
        "\ttarget_size=(150,150),\n",
        "\tclass_mode='binary',\n",
        "  batch_size=20,\n",
        "  shuffle = True\n",
        ")"
      ],
      "metadata": {
        "colab": {
          "base_uri": "https://localhost:8080/"
        },
        "id": "841jF40GrrvL",
        "outputId": "15dc72fb-4d54-490c-e42b-7cbbfeb8e961"
      },
      "execution_count": null,
      "outputs": [
        {
          "output_type": "stream",
          "name": "stdout",
          "text": [
            "Found 3677 images belonging to 2 classes.\n",
            "Found 918 images belonging to 2 classes.\n"
          ]
        }
      ]
    },
    {
      "cell_type": "code",
      "source": [
        "model = tf.keras.models.Sequential([\n",
        "\n",
        "    tf.keras.layers.Conv2D(32, (3,3), activation='relu', input_shape=(150, 150, 3)),\n",
        "    tf.keras.layers.MaxPooling2D(2, 2),\n",
        "\n",
        "    tf.keras.layers.Flatten(),\n",
        "\n",
        "    tf.keras.layers.Dense(64, activation='relu'),\n",
        "    tf.keras.layers.Dense(1, activation='sigmoid')\n",
        "])\n",
        "\n",
        "model.compile(loss='binary_crossentropy',\n",
        "              optimizer= tf.keras.optimizers.SGD(learning_rate=0.002, momentum=0.8),\n",
        "              metrics=['accuracy'])"
      ],
      "metadata": {
        "id": "SuYc0Lb6snnc"
      },
      "execution_count": null,
      "outputs": []
    },
    {
      "cell_type": "code",
      "source": [
        "model.summary()"
      ],
      "metadata": {
        "colab": {
          "base_uri": "https://localhost:8080/"
        },
        "id": "8foe_8P6ttG-",
        "outputId": "94e8f2db-bd88-4590-8f2e-b36aff480820"
      },
      "execution_count": null,
      "outputs": [
        {
          "output_type": "stream",
          "name": "stdout",
          "text": [
            "Model: \"sequential\"\n",
            "_________________________________________________________________\n",
            " Layer (type)                Output Shape              Param #   \n",
            "=================================================================\n",
            " conv2d (Conv2D)             (None, 148, 148, 32)      896       \n",
            "                                                                 \n",
            " max_pooling2d (MaxPooling2  (None, 74, 74, 32)        0         \n",
            " D)                                                              \n",
            "                                                                 \n",
            " flatten (Flatten)           (None, 175232)            0         \n",
            "                                                                 \n",
            " dense (Dense)               (None, 64)                11214912  \n",
            "                                                                 \n",
            " dense_1 (Dense)             (None, 1)                 65        \n",
            "                                                                 \n",
            "=================================================================\n",
            "Total params: 11215873 (42.79 MB)\n",
            "Trainable params: 11215873 (42.79 MB)\n",
            "Non-trainable params: 0 (0.00 Byte)\n",
            "_________________________________________________________________\n"
          ]
        }
      ]
    },
    {
      "cell_type": "code",
      "source": [
        "hist = model.fit(\n",
        "    train_generator,\n",
        "    epochs=10,\n",
        "    validation_data=validation_generator\n",
        ")"
      ],
      "metadata": {
        "colab": {
          "base_uri": "https://localhost:8080/"
        },
        "id": "y5ZGVlKj5Q1Z",
        "outputId": "cd858117-5d7e-44b0-e927-d3e8d7e560dc"
      },
      "execution_count": null,
      "outputs": [
        {
          "output_type": "stream",
          "name": "stdout",
          "text": [
            "Epoch 1/10\n",
            "184/184 [==============================] - 1400s 7s/step - loss: 0.6945 - accuracy: 0.5341 - val_loss: 0.6877 - val_accuracy: 0.5370\n",
            "Epoch 2/10\n",
            "184/184 [==============================] - 15s 81ms/step - loss: 0.6783 - accuracy: 0.5445 - val_loss: 0.6543 - val_accuracy: 0.5621\n",
            "Epoch 3/10\n",
            "184/184 [==============================] - 15s 80ms/step - loss: 0.6664 - accuracy: 0.5825 - val_loss: 0.6329 - val_accuracy: 0.6394\n",
            "Epoch 4/10\n",
            "184/184 [==============================] - 15s 80ms/step - loss: 0.6507 - accuracy: 0.6190 - val_loss: 0.6182 - val_accuracy: 0.6449\n",
            "Epoch 5/10\n",
            "184/184 [==============================] - 17s 92ms/step - loss: 0.6162 - accuracy: 0.6592 - val_loss: 0.5844 - val_accuracy: 0.6874\n",
            "Epoch 6/10\n",
            "184/184 [==============================] - 15s 80ms/step - loss: 0.5824 - accuracy: 0.6951 - val_loss: 0.5726 - val_accuracy: 0.7059\n",
            "Epoch 7/10\n",
            "184/184 [==============================] - 15s 80ms/step - loss: 0.5512 - accuracy: 0.7302 - val_loss: 0.5708 - val_accuracy: 0.7190\n",
            "Epoch 8/10\n",
            "184/184 [==============================] - 15s 81ms/step - loss: 0.5262 - accuracy: 0.7484 - val_loss: 0.5667 - val_accuracy: 0.7309\n",
            "Epoch 9/10\n",
            "184/184 [==============================] - 15s 81ms/step - loss: 0.5125 - accuracy: 0.7604 - val_loss: 0.5522 - val_accuracy: 0.7647\n",
            "Epoch 10/10\n",
            "184/184 [==============================] - 15s 80ms/step - loss: 0.4984 - accuracy: 0.7696 - val_loss: 0.5658 - val_accuracy: 0.7309\n"
          ]
        }
      ]
    },
    {
      "cell_type": "code",
      "source": [
        "np.median(hist.history['accuracy'])"
      ],
      "metadata": {
        "colab": {
          "base_uri": "https://localhost:8080/"
        },
        "id": "3pCnwSB0_R94",
        "outputId": "cb0a20b7-22bf-4cbf-d269-2f2a1bf315d0"
      },
      "execution_count": null,
      "outputs": [
        {
          "output_type": "execute_result",
          "data": {
            "text/plain": [
              "0.6771824955940247"
            ]
          },
          "metadata": {},
          "execution_count": 7
        }
      ]
    },
    {
      "cell_type": "code",
      "source": [
        "np.std(hist.history['loss'])"
      ],
      "metadata": {
        "colab": {
          "base_uri": "https://localhost:8080/"
        },
        "id": "9VoQRSxOBrd4",
        "outputId": "f13ba077-5a7b-4b9f-8054-c7e5a95fbf84"
      },
      "execution_count": null,
      "outputs": [
        {
          "output_type": "execute_result",
          "data": {
            "text/plain": [
              "0.06956153198817411"
            ]
          },
          "metadata": {},
          "execution_count": 8
        }
      ]
    },
    {
      "cell_type": "code",
      "source": [
        "TRAINING_DIR = '/content/drive/MyDrive/data/train'\n",
        "VALIDATION_DIR = '/content/drive/MyDrive/data/test'\n",
        "\n",
        "training_datagen = tf.keras.preprocessing.image.ImageDataGenerator(\n",
        "      rescale = 1./255,\n",
        "\t    rotation_range=50,\n",
        "      width_shift_range=0.1,\n",
        "      height_shift_range=0.1,\n",
        "      zoom_range=0.1,\n",
        "      horizontal_flip=True,\n",
        "      fill_mode='nearest'\n",
        "      )\n",
        "\n",
        "validation_datagen = tf.keras.preprocessing.image.ImageDataGenerator(rescale = 1./255)\n",
        "\n",
        "train_generator = training_datagen.flow_from_directory(\n",
        "\tTRAINING_DIR,\n",
        "\ttarget_size=(150,150),\n",
        "\tclass_mode='binary',\n",
        "  batch_size=20,\n",
        "  shuffle = True\n",
        ")\n",
        "\n",
        "validation_generator = validation_datagen.flow_from_directory(\n",
        "\tVALIDATION_DIR,\n",
        "\ttarget_size=(150,150),\n",
        "\tclass_mode='binary',\n",
        "  batch_size=20,\n",
        "  shuffle = True\n",
        ")"
      ],
      "metadata": {
        "colab": {
          "base_uri": "https://localhost:8080/"
        },
        "id": "2vShXLXa6FGe",
        "outputId": "dbd0e74c-1463-459c-fa02-bf468748ac3c"
      },
      "execution_count": null,
      "outputs": [
        {
          "output_type": "stream",
          "name": "stdout",
          "text": [
            "Found 3677 images belonging to 2 classes.\n",
            "Found 918 images belonging to 2 classes.\n"
          ]
        }
      ]
    },
    {
      "cell_type": "code",
      "source": [
        "hist2 = model.fit(\n",
        "    train_generator,\n",
        "    epochs=10,\n",
        "    validation_data=validation_generator\n",
        ")"
      ],
      "metadata": {
        "colab": {
          "base_uri": "https://localhost:8080/"
        },
        "id": "iBlg-ebk6vjC",
        "outputId": "864ad08a-556f-4501-8ebf-cecd3e3ba1bc"
      },
      "execution_count": null,
      "outputs": [
        {
          "output_type": "stream",
          "name": "stdout",
          "text": [
            "Epoch 1/10\n",
            "184/184 [==============================] - 39s 207ms/step - loss: 0.5445 - accuracy: 0.7441 - val_loss: 0.5304 - val_accuracy: 0.7516\n",
            "Epoch 2/10\n",
            "184/184 [==============================] - 38s 207ms/step - loss: 0.5276 - accuracy: 0.7525 - val_loss: 0.5254 - val_accuracy: 0.7397\n",
            "Epoch 3/10\n",
            "184/184 [==============================] - 38s 209ms/step - loss: 0.5181 - accuracy: 0.7555 - val_loss: 0.4999 - val_accuracy: 0.7723\n",
            "Epoch 4/10\n",
            "184/184 [==============================] - 40s 216ms/step - loss: 0.5016 - accuracy: 0.7623 - val_loss: 0.4851 - val_accuracy: 0.7800\n",
            "Epoch 5/10\n",
            "184/184 [==============================] - 37s 199ms/step - loss: 0.4930 - accuracy: 0.7767 - val_loss: 0.4959 - val_accuracy: 0.7614\n",
            "Epoch 6/10\n",
            "184/184 [==============================] - 37s 200ms/step - loss: 0.4860 - accuracy: 0.7667 - val_loss: 0.5034 - val_accuracy: 0.7571\n",
            "Epoch 7/10\n",
            "184/184 [==============================] - 37s 200ms/step - loss: 0.4841 - accuracy: 0.7762 - val_loss: 0.4943 - val_accuracy: 0.7636\n",
            "Epoch 8/10\n",
            "184/184 [==============================] - 37s 203ms/step - loss: 0.4771 - accuracy: 0.7786 - val_loss: 0.4694 - val_accuracy: 0.7941\n",
            "Epoch 9/10\n",
            "184/184 [==============================] - 37s 201ms/step - loss: 0.4757 - accuracy: 0.7816 - val_loss: 0.4913 - val_accuracy: 0.7571\n",
            "Epoch 10/10\n",
            "184/184 [==============================] - 37s 199ms/step - loss: 0.4690 - accuracy: 0.7930 - val_loss: 0.4589 - val_accuracy: 0.7919\n"
          ]
        }
      ]
    },
    {
      "cell_type": "code",
      "source": [
        "np.mean(hist2.history['val_loss'])"
      ],
      "metadata": {
        "colab": {
          "base_uri": "https://localhost:8080/"
        },
        "id": "SknMdFUjDZH6",
        "outputId": "e4f0bb74-38cc-4cc6-fc82-f2656923ed69"
      },
      "execution_count": null,
      "outputs": [
        {
          "output_type": "execute_result",
          "data": {
            "text/plain": [
              "0.4953954517841339"
            ]
          },
          "metadata": {},
          "execution_count": 11
        }
      ]
    },
    {
      "cell_type": "code",
      "source": [
        "np.mean( hist2.history['val_accuracy'][-5:] )"
      ],
      "metadata": {
        "colab": {
          "base_uri": "https://localhost:8080/"
        },
        "id": "lRAwTzAcDxtg",
        "outputId": "5b3f5e69-2063-42b4-f370-984541f5b935"
      },
      "execution_count": null,
      "outputs": [
        {
          "output_type": "execute_result",
          "data": {
            "text/plain": [
              "0.7727668881416321"
            ]
          },
          "metadata": {},
          "execution_count": 12
        }
      ]
    }
  ]
}